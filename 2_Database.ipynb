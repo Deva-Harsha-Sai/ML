{
  "nbformat": 4,
  "nbformat_minor": 0,
  "metadata": {
    "colab": {
      "provenance": []
    },
    "kernelspec": {
      "name": "python3",
      "display_name": "Python 3"
    },
    "language_info": {
      "name": "python"
    }
  },
  "cells": [
    {
      "cell_type": "code",
      "execution_count": null,
      "metadata": {
        "colab": {
          "base_uri": "https://localhost:8080/"
        },
        "id": "59IsiQNhOT7e",
        "outputId": "48ca031e-7ff5-4238-e4ec-78dfe1b1f8bd"
      },
      "outputs": [
        {
          "output_type": "stream",
          "name": "stdout",
          "text": [
            "('HARSHA',)\n",
            "('KRISHNA',)\n",
            "('MANIKANTH',)\n",
            "('HARSHITH',)\n",
            "('DEVENDER',)\n"
          ]
        }
      ],
      "source": [
        "#Extract Data from database using python\n",
        "import sqlite3\n",
        "connector = sqlite3.connect(\"mydb.db\")\n",
        "connector.execute(\"CREATE TABLE STUDENTS(ID INT, NAME VARCHAR(30))\")\n",
        "connector.execute(\"INSERT INTO STUDENTS VALUES(1,'HARSHA'),(2,'KRISHNA'),(3,'MANIKANTH'),(4,'HARSHITH'),(5,'DEVENDER')\")\n",
        "cursor = connector.execute(\"SELECT NAME FROM STUDENTS\")\n",
        "for name in cursor:\n",
        "  print(name)"
      ]
    }
  ]
}