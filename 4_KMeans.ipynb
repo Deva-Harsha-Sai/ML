{
  "nbformat": 4,
  "nbformat_minor": 0,
  "metadata": {
    "colab": {
      "provenance": []
    },
    "kernelspec": {
      "name": "python3",
      "display_name": "Python 3"
    },
    "language_info": {
      "name": "python"
    }
  },
  "cells": [
    {
      "cell_type": "code",
      "execution_count": null,
      "metadata": {
        "colab": {
          "base_uri": "https://localhost:8080/"
        },
        "id": "Dgwh-AA8RA43",
        "outputId": "a06f489b-b405-4c67-9ed9-961c1a51aa8c"
      },
      "outputs": [
        {
          "output_type": "stream",
          "name": "stdout",
          "text": [
            "[[1.26633333 0.45466667]\n",
            " [0.33066667 1.60833333]\n",
            " [1.30633333 1.41933333]]\n",
            "3\n"
          ]
        },
        {
          "output_type": "stream",
          "name": "stderr",
          "text": [
            "/usr/local/lib/python3.10/dist-packages/sklearn/cluster/_kmeans.py:870: FutureWarning: The default value of `n_init` will change from 10 to 'auto' in 1.4. Set the value of `n_init` explicitly to suppress the warning\n",
            "  warnings.warn(\n"
          ]
        },
        {
          "output_type": "execute_result",
          "data": {
            "text/plain": [
              "array([1], dtype=int32)"
            ]
          },
          "metadata": {},
          "execution_count": 1
        }
      ],
      "source": [
        "#Given the following data....\n",
        "from sklearn.cluster import KMeans\n",
        "import numpy as np\n",
        "X = np.array([[1.713,1.586], [0.180,1.786], [0.353,1.240],[0.940,1.566],\n",
        "[1.486,0.759], [1.266,1.106],[1.540,0.419],[0.459,1.799],[0.773,0.186]])\n",
        "y=np.array([0,1,1,0,1,0,1,1,1])\n",
        "kmeans = KMeans(n_clusters=3, random_state=0).fit(X)\n",
        "print(kmeans.cluster_centers_)\n",
        "print(kmeans.n_iter_)\n",
        "kmeans.predict([[0., 0.606]])"
      ]
    }
  ]
}