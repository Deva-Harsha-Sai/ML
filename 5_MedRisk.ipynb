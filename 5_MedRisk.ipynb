{
  "nbformat": 4,
  "nbformat_minor": 0,
  "metadata": {
    "colab": {
      "provenance": []
    },
    "kernelspec": {
      "name": "python3",
      "display_name": "Python 3"
    },
    "language_info": {
      "name": "python"
    }
  },
  "cells": [
    {
      "cell_type": "code",
      "execution_count": null,
      "metadata": {
        "id": "odOxqMxASaaR"
      },
      "outputs": [],
      "source": [
        "#5.\n",
        "import numpy as np\n",
        "data = np.array([[\"medium\",\"skiing\",\"design\",\"single\",\"twenties\",\"no\",\"highRisk\"],\n",
        "[\"high\",\"golf\",\"trading\",\"married\",\"forties\",\"yes\",\"lowRisk\"],\n",
        "[\"low\",\"speedway\",\"transport\",\"married\",\"thirties\",\"yes\",\"medRisk\"],\n",
        "[\"medium\",\"football\",\"banking\",\"single\",\"thirties\",\"yes\",\"lowRisk\"],\n",
        "[\"high\",\"flying\",\"media\",\"married\",\"fifties\",\"yes\",\"highRisk\"],\n",
        "[\"low\",\"football\",\"security\",\"single\",\"twenties\",\"no\",\"medRisk\"],\n",
        "[\"medium\",\"golf\",\"media\",\"single\",\"thirties\",\"yes\",\"medRisk\"],\n",
        "[\"medium\",\"golf\",\"transport\",\"married\",\"forties\",\"yes\",\"lowRisk\"],\n",
        "[\"high\",\"skiing\",\"banking\",\"single\",\"thirties\",\"yes\",\"highRisk\"],\n",
        "[\"low\",\"golf\",\"unemployed\",\"married\",\"forties\",\"yes\",\"highRisk\"]])"
      ]
    },
    {
      "cell_type": "code",
      "source": [
        "c = 0\n",
        "for i in data:\n",
        "  if \"golf\" in i:\n",
        "    c+=1\n",
        "up = c/len(data)\n",
        "print(up)\n",
        "c1 = 0\n",
        "c2 = 0\n",
        "for j in data:\n",
        "  if (\"single\" in j) and (\"medRisk\" in j):\n",
        "    c1+=1\n",
        "  if (\"medRisk\" in j):\n",
        "    c2+=1\n",
        "cp = c1/c2\n",
        "print(cp)"
      ],
      "metadata": {
        "colab": {
          "base_uri": "https://localhost:8080/"
        },
        "id": "QTOCFR4OSn9I",
        "outputId": "f62494ec-c6a0-4b6c-d910-667db25665cd"
      },
      "execution_count": null,
      "outputs": [
        {
          "output_type": "stream",
          "name": "stdout",
          "text": [
            "0.4\n",
            "0.6666666666666666\n"
          ]
        }
      ]
    }
  ]
}