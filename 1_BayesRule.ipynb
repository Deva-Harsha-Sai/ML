{
  "nbformat": 4,
  "nbformat_minor": 0,
  "metadata": {
    "colab": {
      "provenance": []
    },
    "kernelspec": {
      "name": "python3",
      "display_name": "Python 3"
    },
    "language_info": {
      "name": "python"
    }
  },
  "cells": [
    {
      "cell_type": "code",
      "execution_count": null,
      "metadata": {
        "colab": {
          "base_uri": "https://localhost:8080/"
        },
        "id": "CSL6dVmvL-Vf",
        "outputId": "01c3cfe6-a2ad-44f1-f6fe-791b61d54139"
      },
      "outputs": [
        {
          "output_type": "stream",
          "name": "stdout",
          "text": [
            "Probability of student getting absent on friday: 0.03\n",
            "15%\n"
          ]
        }
      ],
      "source": [
        "#The probability that today is friday.....\n",
        "def prob(a,b):\n",
        "  return f\"{int((a/b)*100)}%\"\n",
        "a = float(input(\"Probability of student getting absent on friday: \"))\n",
        "b = 0.2\n",
        "print(prob(a,b))"
      ]
    },
    {
      "cell_type": "code",
      "source": [
        "#Find out a patient's Probability of having ...\n",
        "def prob(a,b,c):\n",
        "  return f\"{int(((a*b)/c)*100)}%\"\n",
        "a = float(input(\"P(D/A)\"))\n",
        "b = float(input(\"P(D)\"))\n",
        "c = float(input(\"P(A)\"))\n",
        "print(prob(a,b,c))"
      ],
      "metadata": {
        "colab": {
          "base_uri": "https://localhost:8080/"
        },
        "id": "Nr4sbgdyNZMh",
        "outputId": "8eca50d1-cb9a-493a-a6c0-798fde08cd2d"
      },
      "execution_count": null,
      "outputs": [
        {
          "output_type": "stream",
          "name": "stdout",
          "text": [
            "P(D/A)0.07\n",
            "P(D)0.1\n",
            "P(A)0.05\n",
            "14%\n"
          ]
        }
      ]
    }
  ]
}